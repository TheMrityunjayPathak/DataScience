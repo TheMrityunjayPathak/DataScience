{
 "cells": [
  {
   "cell_type": "markdown",
   "metadata": {},
   "source": [
    "**Python Basic Tutorial**"
   ]
  },
  {
   "cell_type": "code",
   "execution_count": 1,
   "metadata": {},
   "outputs": [],
   "source": [
    "# Importing Libraries\n",
    "import numpy\n",
    "import math"
   ]
  },
  {
   "cell_type": "code",
   "execution_count": 2,
   "metadata": {},
   "outputs": [
    {
     "name": "stdout",
     "output_type": "stream",
     "text": [
      "Hello World!\n"
     ]
    }
   ],
   "source": [
    "# Print\n",
    "print(\"Hello World!\")"
   ]
  },
  {
   "cell_type": "code",
   "execution_count": 3,
   "metadata": {},
   "outputs": [
    {
     "name": "stdout",
     "output_type": "stream",
     "text": [
      "3\n",
      "4\n",
      "False\n"
     ]
    }
   ],
   "source": [
    "# Arithematic Operation in Print\n",
    "print(1+2)\n",
    "print(9-5)\n",
    "print(5+3==9)"
   ]
  },
  {
   "cell_type": "markdown",
   "metadata": {},
   "source": [
    "**Print follows PEMDAS Rule, where**\n",
    "\n",
    "**P = Parenthesis**\n",
    "\n",
    "**E = Exponent**\n",
    "\n",
    "**M = Multiply**\n",
    "\n",
    "**D = Division**\n",
    "\n",
    "**A = Addition**\n",
    "\n",
    "**S = Subtraction**"
   ]
  },
  {
   "cell_type": "code",
   "execution_count": 4,
   "metadata": {},
   "outputs": [
    {
     "name": "stdout",
     "output_type": "stream",
     "text": [
      "196.0\n"
     ]
    }
   ],
   "source": [
    "print(((1+3)*(9-2)/2)**2)"
   ]
  },
  {
   "cell_type": "markdown",
   "metadata": {},
   "source": [
    "**Variable**\n",
    "\n",
    "**Rules for Naming Variables**\n",
    "\n",
    "**They can't have spaces (e.g., test var is not allowed)**\n",
    "\n",
    "**They can only include letters, numbers, and underscores (e.g., test_var! is not allowed)**\n",
    "\n",
    "**They have to start with a letter or underscore (e.g., 1_var is not allowed)**"
   ]
  },
  {
   "cell_type": "code",
   "execution_count": 5,
   "metadata": {},
   "outputs": [
    {
     "name": "stdout",
     "output_type": "stream",
     "text": [
      "9\n"
     ]
    }
   ],
   "source": [
    "# Add is a variable for storing values\n",
    "add = 4+5\n",
    "print(add)"
   ]
  },
  {
   "cell_type": "code",
   "execution_count": 6,
   "metadata": {},
   "outputs": [
    {
     "name": "stdout",
     "output_type": "stream",
     "text": [
      "5\n",
      "10\n",
      "20\n"
     ]
    }
   ],
   "source": [
    "# Manipulating variables\n",
    "var1=5\n",
    "print(var1)\n",
    "var1=10\n",
    "print(var1)\n",
    "var1=var1+10\n",
    "print(var1)"
   ]
  },
  {
   "cell_type": "code",
   "execution_count": 7,
   "metadata": {},
   "outputs": [
    {
     "name": "stdout",
     "output_type": "stream",
     "text": [
      "126144000\n"
     ]
    }
   ],
   "source": [
    "# Using multiple variables\n",
    "num_years=4\n",
    "days_per_year=365 \n",
    "hours_per_day=24\n",
    "mins_per_hour=60\n",
    "secs_per_min=60\n",
    "print(secs_per_min*mins_per_hour*hours_per_day*days_per_year*num_years)"
   ]
  },
  {
   "cell_type": "markdown",
   "metadata": {},
   "source": [
    "**Define the Function**\n",
    "\n",
    "**Every function is composed of two pieces: a header and body**\n",
    "\n",
    "**Every function header begins with def, which tells Python that we are about to define a function**\n",
    "\n",
    "**Every line of code in the function body must be indented exactly four spaces**\n",
    "\n",
    "**You can indented by pushing the space bar four times, or by hitting the \"Tab\" button once on your keyboard**"
   ]
  },
  {
   "cell_type": "markdown",
   "metadata": {},
   "source": [
    "**Variable Scope**\n",
    "\n",
    "**Variables defined inside the function body cannot be accessed outside of the function**"
   ]
  },
  {
   "cell_type": "code",
   "execution_count": 8,
   "metadata": {},
   "outputs": [
    {
     "data": {
      "text/plain": [
       "8"
      ]
     },
     "execution_count": 8,
     "metadata": {},
     "output_type": "execute_result"
    }
   ],
   "source": [
    "def add_three(input_var):\n",
    "    output_var = input_var + 3\n",
    "    return output_var\n",
    "add_three(5)"
   ]
  },
  {
   "cell_type": "code",
   "execution_count": 9,
   "metadata": {},
   "outputs": [
    {
     "data": {
      "text/plain": [
       "6"
      ]
     },
     "execution_count": 9,
     "metadata": {},
     "output_type": "execute_result"
    }
   ],
   "source": [
    "# Functions with multiple arguments\n",
    "def add(a,b,c):\n",
    "    return a+b+c\n",
    "add(1,2,3)"
   ]
  },
  {
   "cell_type": "markdown",
   "metadata": {},
   "source": [
    "**Functions with no arguments**\n",
    "\n",
    "**Define the function with no arguments and with no return**"
   ]
  },
  {
   "cell_type": "code",
   "execution_count": 10,
   "metadata": {},
   "outputs": [
    {
     "name": "stdout",
     "output_type": "stream",
     "text": [
      "Hello, How are you!\n",
      "Good morning!\n"
     ]
    }
   ],
   "source": [
    "def print_hello():\n",
    "    print(\"Hello, How are you!\")\n",
    "    print(\"Good morning!\")\n",
    "print_hello()"
   ]
  },
  {
   "cell_type": "markdown",
   "metadata": {},
   "source": [
    "**Whenever you create a variable in Python, it has a value with a corresponding data type**\n",
    "\n",
    "**There are many different data types, such as integers, floats, booleans, and strings**"
   ]
  },
  {
   "cell_type": "code",
   "execution_count": 11,
   "metadata": {},
   "outputs": [
    {
     "name": "stdout",
     "output_type": "stream",
     "text": [
      "14\n",
      "<class 'int'>\n"
     ]
    }
   ],
   "source": [
    "# Integers are numbers without any fractional part and can be positive (1, 2, 3, ...), negative (-1, -2, -3, ...), or zero (0)\n",
    "x = 14\n",
    "print(x)\n",
    "print(type(x))"
   ]
  },
  {
   "cell_type": "code",
   "execution_count": 12,
   "metadata": {},
   "outputs": [
    {
     "name": "stdout",
     "output_type": "stream",
     "text": [
      "3.141592653589793\n",
      "<class 'float'>\n",
      "1.0\n",
      "<class 'float'>\n"
     ]
    }
   ],
   "source": [
    "# Floats are numbers with fractional parts. They can have many numbers after decimal\n",
    "pi = math.pi\n",
    "print(pi)\n",
    "print(type(pi))\n",
    "float_num=1.\n",
    "print(float_num)\n",
    "print(type(float_num))"
   ]
  },
  {
   "cell_type": "markdown",
   "metadata": {},
   "source": [
    "**It lets you round a number to a specified number of decimal places**\n",
    "\n",
    "**One function that is particularly useful for fractions is the round() function**"
   ]
  },
  {
   "cell_type": "code",
   "execution_count": 13,
   "metadata": {},
   "outputs": [
    {
     "name": "stdout",
     "output_type": "stream",
     "text": [
      "3\n",
      "<class 'int'>\n",
      "3.14159\n",
      "<class 'float'>\n"
     ]
    }
   ],
   "source": [
    "round_pi = round(pi)\n",
    "print(round_pi)\n",
    "print(type(round_pi))\n",
    "round_pi = round(pi,5)\n",
    "print(round_pi)\n",
    "print(type(round_pi))"
   ]
  },
  {
   "cell_type": "code",
   "execution_count": 14,
   "metadata": {},
   "outputs": [
    {
     "name": "stdout",
     "output_type": "stream",
     "text": [
      "3150\n"
     ]
    }
   ],
   "source": [
    "# As you've seen, ndigits=-1 rounds to the nearest 10, ndigits=-2 rounds to the nearest 100 and so on.\n",
    "pi=3146\n",
    "round_pi = round(pi,-1)\n",
    "print(round_pi)"
   ]
  },
  {
   "cell_type": "code",
   "execution_count": 15,
   "metadata": {},
   "outputs": [
    {
     "name": "stdout",
     "output_type": "stream",
     "text": [
      "True\n",
      "<class 'bool'>\n"
     ]
    }
   ],
   "source": [
    "# Booleans represent one of two values: True or False\n",
    "boll = True\n",
    "print(boll)\n",
    "print(type(boll))"
   ]
  },
  {
   "cell_type": "code",
   "execution_count": 16,
   "metadata": {},
   "outputs": [
    {
     "name": "stdout",
     "output_type": "stream",
     "text": [
      "False\n",
      "<class 'bool'>\n"
     ]
    }
   ],
   "source": [
    "# We can switch the value of a boolean by using not. So, not True is equivalent to False, and not False becomes True\n",
    "not_boll = not boll\n",
    "print(not_boll)\n",
    "print(type(not_boll))"
   ]
  },
  {
   "cell_type": "markdown",
   "metadata": {},
   "source": [
    "**The string data type is a collection of characters (like alphabet letters, punctuation, numerical digits, or symbols) contained in quotation marks**"
   ]
  },
  {
   "cell_type": "code",
   "execution_count": 17,
   "metadata": {},
   "outputs": [
    {
     "name": "stdout",
     "output_type": "stream",
     "text": [
      "hello world!\n",
      "<class 'str'>\n"
     ]
    }
   ],
   "source": [
    "# Strings are commonly used to represent text\n",
    "hello = \"hello world!\"\n",
    "print(hello)\n",
    "print(type(hello))"
   ]
  },
  {
   "cell_type": "code",
   "execution_count": 18,
   "metadata": {},
   "outputs": [
    {
     "name": "stdout",
     "output_type": "stream",
     "text": [
      "12\n"
     ]
    }
   ],
   "source": [
    "# You can get the length of a string with len()\n",
    "print(len(hello))"
   ]
  },
  {
   "cell_type": "markdown",
   "metadata": {},
   "source": [
    "**Length includes the space, comma, and exclamation mark**\n",
    "\n",
    "**Note that the quotation marks are not included when calculating the length**\n",
    "\n",
    "**One special type of string is the empty string, which has length zero**"
   ]
  },
  {
   "cell_type": "code",
   "execution_count": 19,
   "metadata": {},
   "outputs": [
    {
     "name": "stdout",
     "output_type": "stream",
     "text": [
      "\n",
      "<class 'str'>\n",
      "0\n"
     ]
    }
   ],
   "source": [
    "empty_string = \"\"\n",
    "print(empty_string)\n",
    "print(type(empty_string))\n",
    "print(len(empty_string))"
   ]
  },
  {
   "cell_type": "code",
   "execution_count": 20,
   "metadata": {},
   "outputs": [
    {
     "name": "stdout",
     "output_type": "stream",
     "text": [
      "1.323\n",
      "<class 'str'>\n",
      "5\n"
     ]
    }
   ],
   "source": [
    "# If you put a number in quotation marks, it has a string data type\n",
    "str_any = \"1.323\"\n",
    "print(str_any)\n",
    "print(type(str_any))\n",
    "print(len(str_any))"
   ]
  },
  {
   "cell_type": "code",
   "execution_count": 21,
   "metadata": {},
   "outputs": [
    {
     "name": "stdout",
     "output_type": "stream",
     "text": [
      "1.323\n",
      "<class 'float'>\n"
     ]
    }
   ],
   "source": [
    "# If we have a string that is convertible to a float, we can use float()\n",
    "any_float_num = float(str_any)\n",
    "print(any_float_num)\n",
    "print(type(any_float_num))"
   ]
  },
  {
   "cell_type": "markdown",
   "metadata": {},
   "source": [
    "**Just like you can add two numbers (floats or integers), you can also add two strings**\n",
    "\n",
    "**It results in a longer string that combines the two original strings by concatenating them**"
   ]
  },
  {
   "cell_type": "code",
   "execution_count": 22,
   "metadata": {},
   "outputs": [
    {
     "name": "stdout",
     "output_type": "stream",
     "text": [
      "abccde\n",
      "<class 'str'>\n"
     ]
    }
   ],
   "source": [
    "new_string = \"abc\"+\"cde\"\n",
    "print(new_string)\n",
    "print(type(new_string))"
   ]
  },
  {
   "cell_type": "markdown",
   "metadata": {},
   "source": [
    "**Note that it's not possible to do subtraction or division with two strings**\n",
    "\n",
    "**You also can't multiply two strings, but you can multiply a string by an integer**\n",
    "\n",
    "**This again results in a string that's just the original string concatenated with itself a specified number of times**\n",
    "\n",
    "**Note that you cannot multiply a string by a float! Trying to do so will return an error**"
   ]
  },
  {
   "cell_type": "code",
   "execution_count": 23,
   "metadata": {},
   "outputs": [
    {
     "name": "stdout",
     "output_type": "stream",
     "text": [
      "abccdeabccdeabccde\n",
      "<class 'str'>\n"
     ]
    }
   ],
   "source": [
    "new_string = new_string*3\n",
    "print(new_string)\n",
    "print(type(new_string))"
   ]
  },
  {
   "cell_type": "markdown",
   "metadata": {},
   "source": [
    "**When you multiple an integer or float by a boolean with value True, it just returns that same integer or float (and is equivalent to multiplying by 1)**\n",
    "\n",
    "**If you multiply an integer or float by a boolean with value False, it always returns 0**\n",
    "\n",
    "**This is true for both positive and negative numbers**\n",
    "\n",
    "**If you multiply a string by a boolean with value True, it just returns that same string**\n",
    "\n",
    "**And if you multiply a string by a boolean with value False, it returns an empty string (or a string with length zero)**\n",
    "\n",
    "**In programming, conditions are statements that are either True or False**\n",
    "\n",
    "**There are many different ways to write conditions in Python, but some of the most common ways of writing conditions just compare two different values**"
   ]
  },
  {
   "cell_type": "code",
   "execution_count": 24,
   "metadata": {},
   "outputs": [
    {
     "name": "stdout",
     "output_type": "stream",
     "text": [
      "3\n",
      "-3.1\n",
      "<class 'str'>\n",
      "0\n"
     ]
    }
   ],
   "source": [
    "# Tricky Outputs\n",
    "print(3 * True)\n",
    "print(-3.1 * True)\n",
    "print(type(\"abc\" * False))\n",
    "print(len(\"abc\" * False))"
   ]
  },
  {
   "cell_type": "code",
   "execution_count": 25,
   "metadata": {},
   "outputs": [
    {
     "name": "stdout",
     "output_type": "stream",
     "text": [
      "0\n",
      "1\n",
      "1\n",
      "2\n",
      "3\n"
     ]
    }
   ],
   "source": [
    "# When you add booleans, adding False is equivalent to adding 0, and adding True is equivalent to adding 1.\n",
    "print(False + False)\n",
    "print(True + False)\n",
    "print(False + True)\n",
    "print(True + True)\n",
    "print(False + True + True + True)"
   ]
  },
  {
   "cell_type": "code",
   "execution_count": 26,
   "metadata": {},
   "outputs": [
    {
     "name": "stdout",
     "output_type": "stream",
     "text": [
      "False\n"
     ]
    }
   ],
   "source": [
    "print(2 > 3)"
   ]
  },
  {
   "cell_type": "markdown",
   "metadata": {},
   "source": [
    "**When you check two values are equal, make sure you use the == sign, and not the = sign**"
   ]
  },
  {
   "cell_type": "markdown",
   "metadata": {},
   "source": [
    "**Conditional statements use conditions to modify how your function runs**\n",
    "\n",
    "**They check the value of a condition, and if the condition evaluates to True, then a certain block of code is executed**\n",
    "\n",
    "**Otherwise, if the condition is False, then the code is not run**\n",
    "\n",
    "**The simplest type of conditional statement is an \"if\" statement**"
   ]
  },
  {
   "cell_type": "code",
   "execution_count": 27,
   "metadata": {},
   "outputs": [
    {
     "data": {
      "text/plain": [
       "'Fever!'"
      ]
     },
     "execution_count": 27,
     "metadata": {},
     "output_type": "execute_result"
    }
   ],
   "source": [
    "def evaluate_temp(temp):\n",
    "    message = \"Normal temperature.\"\n",
    "    if temp > 38:\n",
    "        message = \"Fever!\"\n",
    "    return message\n",
    "\n",
    "evaluate_temp(40)"
   ]
  },
  {
   "cell_type": "markdown",
   "metadata": {},
   "source": [
    "**We can use \"else\" statements to run code if a statement is False**\n",
    "\n",
    "**The code under the \"if\" statement is run if the statement is True, and the code under \"else\" is run if the statement is False**"
   ]
  },
  {
   "cell_type": "code",
   "execution_count": 28,
   "metadata": {},
   "outputs": [
    {
     "data": {
      "text/plain": [
       "'Normal temperature.'"
      ]
     },
     "execution_count": 28,
     "metadata": {},
     "output_type": "execute_result"
    }
   ],
   "source": [
    "def evaluate_temp_with_else(temp):\n",
    "    if temp > 38:\n",
    "        message = \"Fever!\"\n",
    "    else:\n",
    "        message = \"Normal temperature.\"\n",
    "    return message\n",
    "\n",
    "evaluate_temp(32)"
   ]
  },
  {
   "cell_type": "code",
   "execution_count": 29,
   "metadata": {},
   "outputs": [
    {
     "data": {
      "text/plain": [
       "'Normal temperature.'"
      ]
     },
     "execution_count": 29,
     "metadata": {},
     "output_type": "execute_result"
    }
   ],
   "source": [
    "# We can use \"elif\" (which is short for \"else if\") to check if multiple conditions might be true\n",
    "def evaluate_temp_with_elif(temp):\n",
    "    if temp > 38:\n",
    "        message = \"Fever!\"\n",
    "    elif temp < 37:\n",
    "        message = \"Normal temperature.\"\n",
    "    else:\n",
    "        message = \"Low temperature.\"\n",
    "    return message\n",
    "\n",
    "evaluate_temp(12)"
   ]
  },
  {
   "cell_type": "markdown",
   "metadata": {},
   "source": [
    "**To create a list, you need to use square brackets ([ ]) and separate each item with a comma**\n",
    "\n",
    "**Every item in the list is a Python string, so each is enclosed in quotation marks**"
   ]
  },
  {
   "cell_type": "code",
   "execution_count": 30,
   "metadata": {},
   "outputs": [
    {
     "data": {
      "text/plain": [
       "['Apple', 'Banana', 'Papaya', 'Grapes']"
      ]
     },
     "execution_count": 30,
     "metadata": {},
     "output_type": "execute_result"
    }
   ],
   "source": [
    "lst = [\"Apple\",\"Banana\",\"Papaya\",\"Grapes\"]\n",
    "lst"
   ]
  },
  {
   "cell_type": "markdown",
   "metadata": {},
   "source": [
    "**We can count the number of entries in any list with len(), which is short for \"length\"**\n",
    "\n",
    "**You need only supply the name of the list in the parentheses**"
   ]
  },
  {
   "cell_type": "code",
   "execution_count": 31,
   "metadata": {},
   "outputs": [
    {
     "name": "stdout",
     "output_type": "stream",
     "text": [
      "4\n"
     ]
    }
   ],
   "source": [
    "print(len(lst))"
   ]
  },
  {
   "cell_type": "code",
   "execution_count": 32,
   "metadata": {},
   "outputs": [
    {
     "name": "stdout",
     "output_type": "stream",
     "text": [
      "Grapes\n"
     ]
    }
   ],
   "source": [
    "# list.pop removes and returns the last element of a list\n",
    "print(lst.pop())"
   ]
  },
  {
   "cell_type": "code",
   "execution_count": 33,
   "metadata": {},
   "outputs": [
    {
     "name": "stdout",
     "output_type": "stream",
     "text": [
      "True\n"
     ]
    }
   ],
   "source": [
    "# we can use the \"in\" operator to determine whether a list contains a particular value\n",
    "print(\"Apple\" in lst)"
   ]
  },
  {
   "cell_type": "code",
   "execution_count": 34,
   "metadata": {},
   "outputs": [
    {
     "name": "stdout",
     "output_type": "stream",
     "text": [
      "0\n"
     ]
    }
   ],
   "source": [
    "# We can get its index using the list.index method\n",
    "print(lst.index(\"Apple\"))"
   ]
  },
  {
   "cell_type": "markdown",
   "metadata": {},
   "source": [
    "**We can refer to any item in the list according to its position in the list (first, second, third, etc), this is called indexing**\n",
    "\n",
    "**Note that Python uses zero-based indexing, which means that:**\n",
    "\n",
    "**To pull the first entry in the list, you use 0,**\n",
    "\n",
    "**To pull the second entry in the list, you use 1,**\n",
    "\n",
    "**To pull the final entry in the list, you use one less than the length of the list**"
   ]
  },
  {
   "cell_type": "code",
   "execution_count": 35,
   "metadata": {},
   "outputs": [
    {
     "name": "stdout",
     "output_type": "stream",
     "text": [
      "First: Apple\n",
      "Last: Papaya\n"
     ]
    }
   ],
   "source": [
    "print(\"First:\",lst[0])\n",
    "print(\"Last:\",lst[2])"
   ]
  },
  {
   "cell_type": "markdown",
   "metadata": {},
   "source": [
    "**You can also pull a segment of a list (for instance, the first three entries or the last two entries),this is called slicing**\n",
    "\n",
    " **To pull the first x entries, you use [:x]**\n",
    " \n",
    " **To pull the last y entries, you use [-y:]**"
   ]
  },
  {
   "cell_type": "code",
   "execution_count": 36,
   "metadata": {},
   "outputs": [
    {
     "name": "stdout",
     "output_type": "stream",
     "text": [
      "First Two: ['Apple', 'Banana']\n",
      "Last Two: ['Banana', 'Papaya']\n"
     ]
    }
   ],
   "source": [
    "print(\"First Two:\",lst[:2])\n",
    "print(\"Last Two:\",lst[-2:])"
   ]
  },
  {
   "cell_type": "code",
   "execution_count": 37,
   "metadata": {},
   "outputs": [
    {
     "name": "stdout",
     "output_type": "stream",
     "text": [
      "['Banana', 'Papaya']\n"
     ]
    }
   ],
   "source": [
    "# Remove an item from a list with .remove(), and put the item you would like to remove in parentheses\n",
    "lst.remove(\"Apple\")\n",
    "print(lst)"
   ]
  },
  {
   "cell_type": "code",
   "execution_count": 38,
   "metadata": {},
   "outputs": [
    {
     "name": "stdout",
     "output_type": "stream",
     "text": [
      "['Banana', 'Papaya', 'Pine Apple']\n"
     ]
    }
   ],
   "source": [
    "# Add an item to a list with .append(), and put the item you would like to add in parentheses\n",
    "lst.append(\"Pine Apple\")\n",
    "print(lst)"
   ]
  },
  {
   "cell_type": "markdown",
   "metadata": {},
   "source": [
    "**Lists can have items with any data type, including booleans, integers, and floats**\n",
    "\n",
    "**You can also get the minimum with min() and the maximum with max()**"
   ]
  },
  {
   "cell_type": "code",
   "execution_count": 39,
   "metadata": {},
   "outputs": [
    {
     "name": "stdout",
     "output_type": "stream",
     "text": [
      "11\n",
      "1\n"
     ]
    }
   ],
   "source": [
    "lst_math = [1,3,5,7,9,11]\n",
    "print(max(lst_math))\n",
    "print(min(lst_math))"
   ]
  },
  {
   "cell_type": "code",
   "execution_count": 40,
   "metadata": {},
   "outputs": [
    {
     "name": "stdout",
     "output_type": "stream",
     "text": [
      "36\n"
     ]
    }
   ],
   "source": [
    "# To add every item in the list, use sum()\n",
    "print(sum(lst_math))"
   ]
  },
  {
   "cell_type": "markdown",
   "metadata": {},
   "source": [
    "**You can actually use Python to quickly turn this string into a list with .split()**\n",
    "\n",
    "**In the parentheses, we need to provide the character should be used to mark the end of one list item and the beginning of another, and enclose it in quotation marks**\n",
    "\n",
    "**In this case, that character is a comma**"
   ]
  },
  {
   "cell_type": "code",
   "execution_count": 41,
   "metadata": {},
   "outputs": [
    {
     "name": "stdout",
     "output_type": "stream",
     "text": [
      "['pink primrose', 'hard-leaved pocket orchid', 'canterbury bells', 'sweet pea', 'english marigold', 'tiger lily', 'moon orchid', 'bird of paradise', 'monkshood', 'globe thistle']\n"
     ]
    }
   ],
   "source": [
    "flowers = \"pink primrose,hard-leaved pocket orchid,canterbury bells,sweet pea,english marigold,tiger lily,moon orchid,bird of paradise,monkshood,globe thistle\"\n",
    "print(flowers.split(\",\"))"
   ]
  },
  {
   "cell_type": "markdown",
   "metadata": {},
   "source": [
    "**List Comprehensions, which allow you to create a list based on the values in another list**"
   ]
  },
  {
   "cell_type": "code",
   "execution_count": 42,
   "metadata": {},
   "outputs": [
    {
     "name": "stdout",
     "output_type": "stream",
     "text": [
      "[False, False, False, True, True]\n",
      "2\n"
     ]
    }
   ],
   "source": [
    "test = [11,12,13,14,15]\n",
    "rating_test = [i>13 for i in test]\n",
    "print(rating_test)\n",
    "print(sum(rating_test))"
   ]
  },
  {
   "cell_type": "code",
   "execution_count": 43,
   "metadata": {},
   "outputs": [
    {
     "data": {
      "text/plain": [
       "[1, 3, 5, 7, 9, 11]"
      ]
     },
     "execution_count": 43,
     "metadata": {},
     "output_type": "execute_result"
    }
   ],
   "source": [
    "# \"sorted\" returns a sorted version of a list\n",
    "sorted(lst_math)"
   ]
  },
  {
   "cell_type": "code",
   "execution_count": 44,
   "metadata": {},
   "outputs": [
    {
     "name": "stdout",
     "output_type": "stream",
     "text": [
      "1\n",
      "3\n"
     ]
    }
   ],
   "source": [
    "# \"min\" and \"max\" return the minimum and maximum of their arguments\n",
    "print(min(1,2,3))\n",
    "print(max(1,2,3))"
   ]
  },
  {
   "cell_type": "code",
   "execution_count": 45,
   "metadata": {},
   "outputs": [
    {
     "name": "stdout",
     "output_type": "stream",
     "text": [
      "33\n"
     ]
    }
   ],
   "source": [
    "# \"abs\" returns the absolute value of an argument\n",
    "print(abs(-33))"
   ]
  },
  {
   "cell_type": "markdown",
   "metadata": {},
   "source": [
    "**\"int\" and \"float\" can also be called as functions which convert their arguments to the corresponding type**"
   ]
  },
  {
   "cell_type": "code",
   "execution_count": 46,
   "metadata": {},
   "outputs": [
    {
     "name": "stdout",
     "output_type": "stream",
     "text": [
      "10.0\n",
      "3\n"
     ]
    }
   ],
   "source": [
    "print(float(10))\n",
    "print(int(3.33))"
   ]
  },
  {
   "cell_type": "markdown",
   "metadata": {},
   "source": [
    "**Help Function**\n",
    "\n",
    "**The help() function is possibly the most important Python function you can learn**\n",
    "\n",
    "**If you can remember how to use help(), you hold the key to understanding most other functions**"
   ]
  },
  {
   "cell_type": "code",
   "execution_count": 47,
   "metadata": {},
   "outputs": [
    {
     "name": "stdout",
     "output_type": "stream",
     "text": [
      "Help on built-in function print in module builtins:\n",
      "\n",
      "print(*args, sep=' ', end='\\n', file=None, flush=False)\n",
      "    Prints the values to a stream, or to sys.stdout by default.\n",
      "    \n",
      "    sep\n",
      "      string inserted between values, default a space.\n",
      "    end\n",
      "      string appended after the last value, default a newline.\n",
      "    file\n",
      "      a file-like object (stream); defaults to the current sys.stdout.\n",
      "    flush\n",
      "      whether to forcibly flush the stream.\n",
      "\n"
     ]
    }
   ],
   "source": [
    "help(print)"
   ]
  },
  {
   "cell_type": "markdown",
   "metadata": {},
   "source": [
    "**Defining functions**\n",
    "\n",
    "**Functions start with a header introduced by the def keyword**\n",
    "\n",
    "**The indented block of code following the : is run when the function is called**\n",
    "\n",
    "**\"return\" is another keyword uniquely associated with functions**\n",
    "\n",
    "**When Python encounters a return statement, it exits the function immediately, and passes the value on the right hand side to the calling context**\n",
    "\n",
    "**Python isn't smart enough to read my code and turn it into a nice English description**\n",
    "\n",
    "**However, when I write a function, I can provide a description in what's called the docstring**\n",
    "\n",
    "**\"\"\"**\n",
    "\n",
    "**1. Name**\n",
    "\n",
    "**2. Class**\n",
    "\n",
    "**3. Roll Number**\n",
    "\n",
    "**\"\"\"**"
   ]
  },
  {
   "cell_type": "code",
   "execution_count": 48,
   "metadata": {},
   "outputs": [
    {
     "name": "stdout",
     "output_type": "stream",
     "text": [
      "\n",
      "None\n"
     ]
    }
   ],
   "source": [
    "# Functions that don't return\n",
    "mystery = print()\n",
    "print(mystery)"
   ]
  },
  {
   "cell_type": "code",
   "execution_count": 49,
   "metadata": {},
   "outputs": [
    {
     "name": "stdout",
     "output_type": "stream",
     "text": [
      "1<2<3\n"
     ]
    }
   ],
   "source": [
    "# \"print\" function has several optional arguments\n",
    "print(1,2,3,sep=\"<\")"
   ]
  },
  {
   "cell_type": "markdown",
   "metadata": {},
   "source": [
    "**Python has a type of variable called bool**\n",
    "\n",
    "**It has two possible values: True and False**"
   ]
  },
  {
   "cell_type": "code",
   "execution_count": 50,
   "metadata": {},
   "outputs": [
    {
     "name": "stdout",
     "output_type": "stream",
     "text": [
      "True\n",
      "<class 'bool'>\n"
     ]
    }
   ],
   "source": [
    "x = True\n",
    "print(x)\n",
    "print(type(x))"
   ]
  },
  {
   "cell_type": "code",
   "execution_count": 51,
   "metadata": {},
   "outputs": [
    {
     "name": "stdout",
     "output_type": "stream",
     "text": [
      "True\n",
      "True\n",
      "True\n",
      "False\n",
      "True\n",
      "False\n"
     ]
    }
   ],
   "source": [
    "# Comparisons frequently work like you'd hope\n",
    "print(3.0 == 3)\n",
    "print(True or True and False)\n",
    "\n",
    "# All numbers are treated as true, except 0\n",
    "print(bool(1)) \n",
    "print(bool(0))\n",
    "\n",
    "# All strings are treated as true, except the empty string \"\"\n",
    "print(bool(\"asf\")) \n",
    "print(bool(\"\"))"
   ]
  },
  {
   "cell_type": "code",
   "execution_count": 52,
   "metadata": {},
   "outputs": [
    {
     "data": {
      "text/plain": [
       "1"
      ]
     },
     "execution_count": 52,
     "metadata": {},
     "output_type": "execute_result"
    }
   ],
   "source": [
    "# Function\n",
    "def sign(x):\n",
    "    if x > 0:\n",
    "        return 1\n",
    "    elif x < 0:\n",
    "        return -1\n",
    "    else:\n",
    "        return 0\n",
    "\n",
    "sign(5)    "
   ]
  },
  {
   "cell_type": "code",
   "execution_count": 53,
   "metadata": {},
   "outputs": [
    {
     "name": "stdout",
     "output_type": "stream",
     "text": [
      "True\n"
     ]
    }
   ],
   "source": [
    "# One Line Statement\n",
    "def concise_is_negative(number):\n",
    "    return True if number<0 else False\n",
    "print(concise_is_negative(-3))"
   ]
  },
  {
   "cell_type": "code",
   "execution_count": 54,
   "metadata": {},
   "outputs": [
    {
     "name": "stdout",
     "output_type": "stream",
     "text": [
      "X XOR Y is: 1\n"
     ]
    }
   ],
   "source": [
    "# XOR Operation in Python\n",
    "x = 1\n",
    "y = 0\n",
    "print(f\"X XOR Y is: {x^y}\")"
   ]
  },
  {
   "cell_type": "code",
   "execution_count": 55,
   "metadata": {},
   "outputs": [
    {
     "name": "stdout",
     "output_type": "stream",
     "text": [
      "3.0\n",
      "12.0\n"
     ]
    }
   ],
   "source": [
    "# Complex Number\n",
    "c = 12 + 3j\n",
    "print(c.imag)\n",
    "print(c.real)"
   ]
  },
  {
   "cell_type": "code",
   "execution_count": 56,
   "metadata": {},
   "outputs": [
    {
     "name": "stdout",
     "output_type": "stream",
     "text": [
      "0b10111\n",
      "5\n"
     ]
    }
   ],
   "source": [
    "# Numbers have a method called bit_length. Again, we access it using dot syntax\n",
    "num = 23\n",
    "print(bin(num))\n",
    "print((num).bit_length())"
   ]
  },
  {
   "cell_type": "markdown",
   "metadata": {},
   "source": [
    "**Tuples are almost exactly the same as lists**\n",
    "\n",
    "**They differ in just two ways:**\n",
    "\n",
    "**The syntax for creating them uses parentheses instead of square brackets**\n",
    "\n",
    "**They cannot be modified (they are immutable)**"
   ]
  },
  {
   "cell_type": "code",
   "execution_count": 57,
   "metadata": {},
   "outputs": [
    {
     "name": "stdout",
     "output_type": "stream",
     "text": [
      "(1, 2, 3)\n"
     ]
    }
   ],
   "source": [
    "t = (1, 2, 3)\n",
    "print(t)"
   ]
  },
  {
   "cell_type": "code",
   "execution_count": 58,
   "metadata": {},
   "outputs": [
    {
     "name": "stdout",
     "output_type": "stream",
     "text": [
      "Mercury\n",
      "Venus\n",
      "Earth\n",
      "Mars\n",
      "Jupiter\n",
      "Saturn\n",
      "Uranus\n",
      "Neptune\n"
     ]
    }
   ],
   "source": [
    "# Loops are a way to repeatedly execute some code\n",
    "planets = ['Mercury', 'Venus', 'Earth', 'Mars', 'Jupiter', 'Saturn', 'Uranus', 'Neptune']\n",
    "for planet in planets:\n",
    "    print(planet,end=\"\\n\")"
   ]
  },
  {
   "cell_type": "markdown",
   "metadata": {},
   "source": [
    "**For loop specifies**\n",
    "\n",
    "**The variable name to use**\n",
    "\n",
    "**The set of values to loop over**\n",
    "\n",
    "**You can even loop through each character in a string**\n",
    "\n",
    "**The object to the right of the \"in\" can be any object that supports iteration**"
   ]
  },
  {
   "cell_type": "code",
   "execution_count": 59,
   "metadata": {},
   "outputs": [
    {
     "name": "stdout",
     "output_type": "stream",
     "text": [
      "A\n",
      "B\n",
      "C\n",
      "D\n",
      "E\n",
      "F\n",
      "G\n"
     ]
    }
   ],
   "source": [
    "letter = [\"a\",\"b\",\"c\",\"d\",\"e\",\"f\",\"g\"]\n",
    "for chr in letter:\n",
    "    print(chr.capitalize(),sep=\" \")"
   ]
  },
  {
   "cell_type": "code",
   "execution_count": 60,
   "metadata": {},
   "outputs": [
    {
     "name": "stdout",
     "output_type": "stream",
     "text": [
      "H E L L O "
     ]
    }
   ],
   "source": [
    "# Print all the uppercase letters in s, one at a time\n",
    "s = 'steganograpHy is the practicE of conceaLing a file, message, image, or video within another fiLe, message, image, Or video.'\n",
    "for char in s:\n",
    "    if char.isupper():\n",
    "        print(char, end=\" \") "
   ]
  },
  {
   "cell_type": "markdown",
   "metadata": {},
   "source": [
    "**range() is a function that returns a sequence of numbers**\n",
    "\n",
    "**It turns out to be very useful for writing loops**"
   ]
  },
  {
   "cell_type": "code",
   "execution_count": 61,
   "metadata": {},
   "outputs": [
    {
     "name": "stdout",
     "output_type": "stream",
     "text": [
      "5 X 1 = 5\n",
      "5 X 2 = 10\n",
      "5 X 3 = 15\n",
      "5 X 4 = 20\n",
      "5 X 5 = 25\n",
      "5 X 6 = 30\n",
      "5 X 7 = 35\n",
      "5 X 8 = 40\n",
      "5 X 9 = 45\n",
      "5 X 10 = 50\n"
     ]
    }
   ],
   "source": [
    "table = 5\n",
    "for i in range(1,11):\n",
    "    print(f\"{table} X {i} = {table*i}\",end=\"\\n\")"
   ]
  },
  {
   "cell_type": "code",
   "execution_count": 62,
   "metadata": {},
   "outputs": [
    {
     "name": "stdout",
     "output_type": "stream",
     "text": [
      "0 1 2 3 4 5 6 7 8 9 "
     ]
    }
   ],
   "source": [
    "# The other type of loop in Python is a while loop, which iterates until some condition is met\n",
    "i = 0\n",
    "while i < 10:\n",
    "    print(i, end=' ')\n",
    "    i += 1 "
   ]
  },
  {
   "cell_type": "code",
   "execution_count": 63,
   "metadata": {},
   "outputs": [
    {
     "name": "stdout",
     "output_type": "stream",
     "text": [
      "[0, 1, 4, 9, 16, 25, 36, 49, 64, 81]\n"
     ]
    },
    {
     "data": {
      "text/plain": [
       "[0, 1, 4, 9, 16, 25, 36, 49, 64, 81]"
      ]
     },
     "execution_count": 63,
     "metadata": {},
     "output_type": "execute_result"
    }
   ],
   "source": [
    "# List comprehensions are one of Python's most beloved and unique features\n",
    "squares = [n**2 for n in range(10)]\n",
    "print(squares)\n",
    "\n",
    "# Here's how we would do the same thing without a list comprehension\n",
    "squares = []\n",
    "for n in range(10):\n",
    "    squares.append(n**2)\n",
    "squares"
   ]
  },
  {
   "cell_type": "code",
   "execution_count": 64,
   "metadata": {},
   "outputs": [
    {
     "name": "stdout",
     "output_type": "stream",
     "text": [
      "['Venus', 'Earth', 'Mars']\n"
     ]
    }
   ],
   "source": [
    "# We can also add an if condition\n",
    "sort_panet = [planet for planet in planets if len(planet)<6]\n",
    "print(sort_panet)"
   ]
  },
  {
   "cell_type": "markdown",
   "metadata": {},
   "source": [
    "**One place where the Python language really shines is in the manipulation of strings**\n",
    "\n",
    "**This section will cover some of Python's built-in string methods and formatting operations**\n",
    "\n",
    "**Strings in Python can be defined using either single or double quotations, they are functionally equivalent**"
   ]
  },
  {
   "cell_type": "code",
   "execution_count": 65,
   "metadata": {},
   "outputs": [
    {
     "name": "stdout",
     "output_type": "stream",
     "text": [
      "True\n"
     ]
    }
   ],
   "source": [
    "x = 'Pluto is a planet'\n",
    "y = \"Pluto is a planet\"\n",
    "print(x == y)"
   ]
  },
  {
   "cell_type": "markdown",
   "metadata": {},
   "source": [
    "**Double quotes are convenient if your string contains a single quote character (e.g. representing an apostrophe)**\n",
    "\n",
    "**Similarly, it's easy to create a string that contains double-quotes if you wrap it in single quotes**"
   ]
  },
  {
   "cell_type": "code",
   "execution_count": 66,
   "metadata": {},
   "outputs": [
    {
     "name": "stdout",
     "output_type": "stream",
     "text": [
      "Pluto's a planet!\n",
      "My dog is named \"Pluto\"\n"
     ]
    }
   ],
   "source": [
    "print(\"Pluto's a planet!\")\n",
    "print('My dog is named \"Pluto\"')"
   ]
  },
  {
   "cell_type": "code",
   "execution_count": 67,
   "metadata": {},
   "outputs": [],
   "source": [
    "# If we try to put a single quote character inside a single-quoted string, Python gets confused\n",
    "# \\' = '\n",
    "# \\\" = \"\n",
    "# \\\\ = \\\n",
    "# \\n = New Line"
   ]
  },
  {
   "cell_type": "code",
   "execution_count": 68,
   "metadata": {},
   "outputs": [
    {
     "name": "stdout",
     "output_type": "stream",
     "text": [
      "hello\n",
      "world\n",
      "0 7 7 3 1\n"
     ]
    }
   ],
   "source": [
    "hello = \"hello\\nworld\"\n",
    "print(hello)\n",
    "e = '\\n'\n",
    "d = \"\"\"hey\"\"\"\n",
    "c = 'it\\'s ok'\n",
    "b = \"it's ok\"\n",
    "a = \"\"\n",
    "print(len(a),len(b),len(c),len(d),len(e))"
   ]
  },
  {
   "cell_type": "markdown",
   "metadata": {},
   "source": [
    "**Python's triple quote syntax for strings lets us include newlines literally by just hitting 'Enter' on our keyboard, rather than using the special '\\n' sequence**"
   ]
  },
  {
   "cell_type": "code",
   "execution_count": 69,
   "metadata": {},
   "outputs": [
    {
     "name": "stdout",
     "output_type": "stream",
     "text": [
      "hello\n",
      "world\n",
      "True\n"
     ]
    }
   ],
   "source": [
    "triplequoted_hello = \"\"\"hello\n",
    "world\"\"\"\n",
    "print(triplequoted_hello)\n",
    "print(triplequoted_hello == hello)"
   ]
  },
  {
   "cell_type": "markdown",
   "metadata": {},
   "source": [
    "**The print() function automatically adds a newline character unless we specify a value for the keyword argument end other than the default value of '\\n'**"
   ]
  },
  {
   "cell_type": "code",
   "execution_count": 70,
   "metadata": {},
   "outputs": [
    {
     "name": "stdout",
     "output_type": "stream",
     "text": [
      "hello\n",
      "world\n",
      "hellopluto"
     ]
    }
   ],
   "source": [
    "print(\"hello\")\n",
    "print(\"world\")\n",
    "print(\"hello\", end='')\n",
    "print(\"pluto\", end='')"
   ]
  },
  {
   "cell_type": "markdown",
   "metadata": {},
   "source": [
    "**Strings can be thought of as sequences of characters**\n",
    "\n",
    "**Almost everything we've seen that we can do to a list, we can also do to a string**"
   ]
  },
  {
   "cell_type": "code",
   "execution_count": 71,
   "metadata": {},
   "outputs": [
    {
     "name": "stdout",
     "output_type": "stream",
     "text": [
      "P\n",
      "uto\n",
      "5\n",
      "['P! ', 'l! ', 'u! ', 't! ', 'o! ']\n"
     ]
    }
   ],
   "source": [
    "planet = 'Pluto'\n",
    "print(planet[0])\n",
    "print(planet[-3:])\n",
    "print(len(planet))\n",
    "plt = [char+'! ' for char in planet]\n",
    "print(plt)"
   ]
  },
  {
   "cell_type": "code",
   "execution_count": 72,
   "metadata": {},
   "outputs": [],
   "source": [
    "# But a major way in which they differ from lists is that they are immutable, we can't modify them"
   ]
  },
  {
   "cell_type": "code",
   "execution_count": 73,
   "metadata": {},
   "outputs": [
    {
     "name": "stdout",
     "output_type": "stream",
     "text": [
      "PLUTO IS A PLANET!\n",
      "pluto is a planet!\n",
      "11\n",
      "True\n",
      "False\n"
     ]
    }
   ],
   "source": [
    "# Like list, the type str has lots of very useful methods\n",
    "claim = \"Pluto is a planet!\"\n",
    "print(claim.upper())\n",
    "print(claim.lower())\n",
    "print(claim.index('plan'))\n",
    "print(claim.startswith(planet))\n",
    "print(claim.endswith('planet'))"
   ]
  },
  {
   "cell_type": "markdown",
   "metadata": {},
   "source": [
    "**str.split() turns a string into a list of smaller strings, breaking on whitespace by default**\n",
    "\n",
    "**This is super useful for taking you from one big string to a list of words**"
   ]
  },
  {
   "cell_type": "code",
   "execution_count": 74,
   "metadata": {},
   "outputs": [
    {
     "name": "stdout",
     "output_type": "stream",
     "text": [
      "['Pluto', 'is', 'a', 'planet!']\n"
     ]
    }
   ],
   "source": [
    "words = claim.split()\n",
    "print(words)"
   ]
  },
  {
   "cell_type": "code",
   "execution_count": 75,
   "metadata": {},
   "outputs": [
    {
     "name": "stdout",
     "output_type": "stream",
     "text": [
      "1956 01 31\n"
     ]
    }
   ],
   "source": [
    "# Occasionally you'll want to split on something other than whitespace\n",
    "datestr = '1956-01-31'\n",
    "year, month, day = datestr.split('-')\n",
    "print(year,month,day)"
   ]
  },
  {
   "cell_type": "markdown",
   "metadata": {},
   "source": [
    "**str.join() takes us in the other direction, sewing a list of strings up into one long string, using the string it was called on as a separator**"
   ]
  },
  {
   "cell_type": "code",
   "execution_count": 76,
   "metadata": {},
   "outputs": [
    {
     "name": "stdout",
     "output_type": "stream",
     "text": [
      "01/31/1956\n"
     ]
    }
   ],
   "source": [
    "print('/'.join([month, day, year]))"
   ]
  },
  {
   "cell_type": "markdown",
   "metadata": {},
   "source": [
    "**str.format() on a \"format string\", where the Python values we want to insert are represented with {} placeholders**\n",
    "\n",
    "**Notice how we didn't even have to call str() to convert position from an int. format() takes care of that for us**\n",
    "\n",
    "**If that was all that format() did, it would still be incredibly useful**"
   ]
  },
  {
   "cell_type": "code",
   "execution_count": 77,
   "metadata": {},
   "outputs": [
    {
     "name": "stdout",
     "output_type": "stream",
     "text": [
      "Pluto, you'll always be the 9th planet to me.\n",
      "Pluto, you'll always be the 9th planet to me.\n"
     ]
    }
   ],
   "source": [
    "position = 9\n",
    "print(planet + \", you'll always be the \" + str(position) + \"th planet to me.\")\n",
    "print(\"{}, you'll always be the {}th planet to me.\".format(planet, position))"
   ]
  },
  {
   "cell_type": "code",
   "execution_count": 78,
   "metadata": {},
   "outputs": [
    {
     "name": "stdout",
     "output_type": "stream",
     "text": [
      "{'one': 1, 'two': 2, 'three': 3}\n"
     ]
    }
   ],
   "source": [
    "# Dictionaries are a built-in Python data structure for mapping keys to values.\n",
    "numbers = {'one':1, 'two':2, 'three':3}\n",
    "print(numbers)"
   ]
  },
  {
   "cell_type": "code",
   "execution_count": 79,
   "metadata": {},
   "outputs": [
    {
     "name": "stdout",
     "output_type": "stream",
     "text": [
      "1\n"
     ]
    }
   ],
   "source": [
    "# In this case 'one', 'two', and 'three' are the keys, and 1, 2 and 3 are their corresponding values\n",
    "# Values are accessed via square bracket syntax similar to indexing into lists and strings\n",
    "print(numbers['one'])"
   ]
  },
  {
   "cell_type": "code",
   "execution_count": 80,
   "metadata": {},
   "outputs": [
    {
     "name": "stdout",
     "output_type": "stream",
     "text": [
      "{'one': 1, 'two': 2, 'three': 3, 'eleven': 11}\n"
     ]
    }
   ],
   "source": [
    "# We can use the same syntax to add another key, value pair\n",
    "numbers['eleven'] = 11\n",
    "print(numbers)"
   ]
  },
  {
   "cell_type": "code",
   "execution_count": 81,
   "metadata": {},
   "outputs": [
    {
     "name": "stdout",
     "output_type": "stream",
     "text": [
      "{'one': 'Pluto', 'two': 2, 'three': 3, 'eleven': 11}\n"
     ]
    }
   ],
   "source": [
    "# Or to change the value associated with an existing key\n",
    "numbers['one'] = 'Pluto'\n",
    "print(numbers)"
   ]
  },
  {
   "cell_type": "code",
   "execution_count": 82,
   "metadata": {},
   "outputs": [
    {
     "name": "stdout",
     "output_type": "stream",
     "text": [
      "{'Mercury': 'M', 'Venus': 'V', 'Earth': 'E', 'Mars': 'M', 'Jupiter': 'J', 'Saturn': 'S', 'Uranus': 'U', 'Neptune': 'N'}\n"
     ]
    }
   ],
   "source": [
    "# Python has dictionary comprehensions with a syntax similar to the list comprehensions we saw in the previous tutorial.\n",
    "planets = ['Mercury', 'Venus', 'Earth', 'Mars', 'Jupiter', 'Saturn', 'Uranus', 'Neptune']\n",
    "planet_to_initial = {planet: planet[0] for planet in planets}\n",
    "print(planet_to_initial)"
   ]
  },
  {
   "cell_type": "code",
   "execution_count": 83,
   "metadata": {},
   "outputs": [
    {
     "name": "stdout",
     "output_type": "stream",
     "text": [
      "True\n",
      "False\n"
     ]
    }
   ],
   "source": [
    "# The \"in\" operator tells us whether something is a key in the dictionary\n",
    "print('Saturn' in planet_to_initial)\n",
    "print('Betelgeuse' in planet_to_initial)"
   ]
  },
  {
   "cell_type": "code",
   "execution_count": 84,
   "metadata": {},
   "outputs": [
    {
     "name": "stdout",
     "output_type": "stream",
     "text": [
      "one = Pluto\n",
      "two = 2\n",
      "three = 3\n",
      "eleven = 11\n"
     ]
    }
   ],
   "source": [
    "# A \"for\" loop over a dictionary will loop over its keys\n",
    "for k in numbers:\n",
    "    print(\"{} = {}\".format(k, numbers[k]))"
   ]
  },
  {
   "cell_type": "code",
   "execution_count": 85,
   "metadata": {},
   "outputs": [
    {
     "name": "stdout",
     "output_type": "stream",
     "text": [
      "dict_keys(['one', 'two', 'three', 'eleven'])\n",
      "dict_values(['Pluto', 2, 3, 11])\n"
     ]
    }
   ],
   "source": [
    "# We can access a collection of all the keys or all the values with dict.keys() and dict.values()\n",
    "print(numbers.keys())\n",
    "print(numbers.values())"
   ]
  },
  {
   "cell_type": "code",
   "execution_count": 86,
   "metadata": {},
   "outputs": [
    {
     "name": "stdout",
     "output_type": "stream",
     "text": [
      "   Mercury begins with \"M\"\n",
      "     Venus begins with \"V\"\n",
      "     Earth begins with \"E\"\n",
      "      Mars begins with \"M\"\n",
      "   Jupiter begins with \"J\"\n",
      "    Saturn begins with \"S\"\n",
      "    Uranus begins with \"U\"\n",
      "   Neptune begins with \"N\"\n"
     ]
    }
   ],
   "source": [
    "# The very useful dict.items() method lets us iterate over the keys and values of a dictionary simultaneously\n",
    "for planet, initial in planet_to_initial.items():\n",
    "    print(\"{} begins with \\\"{}\\\"\".format(planet.rjust(10), initial))"
   ]
  },
  {
   "cell_type": "markdown",
   "metadata": {},
   "source": [
    "**But one of the best things about Python (especially if you're a data scientist) is the vast number of high-quality custom libraries that have been written for it**\n",
    "\n",
    "**Either way, we'll access this code with imports**"
   ]
  },
  {
   "cell_type": "code",
   "execution_count": 87,
   "metadata": {},
   "outputs": [
    {
     "name": "stdout",
     "output_type": "stream",
     "text": [
      "It's math! It has type <class 'module'>\n"
     ]
    }
   ],
   "source": [
    "import math\n",
    "print(\"It's math! It has type {}\".format(type(math)))"
   ]
  },
  {
   "cell_type": "markdown",
   "metadata": {},
   "source": [
    "**A module is just a collection of variables defined by someone else**\n",
    "\n",
    "**We can see all the names in math using the built-in function dir()**"
   ]
  },
  {
   "cell_type": "code",
   "execution_count": 88,
   "metadata": {},
   "outputs": [
    {
     "name": "stdout",
     "output_type": "stream",
     "text": [
      "['__doc__', '__loader__', '__name__', '__package__', '__spec__', 'acos', 'acosh', 'asin', 'asinh', 'atan', 'atan2', 'atanh', 'cbrt', 'ceil', 'comb', 'copysign', 'cos', 'cosh', 'degrees', 'dist', 'e', 'erf', 'erfc', 'exp', 'exp2', 'expm1', 'fabs', 'factorial', 'floor', 'fmod', 'frexp', 'fsum', 'gamma', 'gcd', 'hypot', 'inf', 'isclose', 'isfinite', 'isinf', 'isnan', 'isqrt', 'lcm', 'ldexp', 'lgamma', 'log', 'log10', 'log1p', 'log2', 'modf', 'nan', 'nextafter', 'perm', 'pi', 'pow', 'prod', 'radians', 'remainder', 'sin', 'sinh', 'sqrt', 'tan', 'tanh', 'tau', 'trunc', 'ulp']\n"
     ]
    }
   ],
   "source": [
    "print(dir(math))"
   ]
  },
  {
   "cell_type": "markdown",
   "metadata": {},
   "source": [
    "**We can access these variables using dot syntax**\n",
    "\n",
    "**Some of them refer to simple values, like math.pi**"
   ]
  },
  {
   "cell_type": "code",
   "execution_count": 89,
   "metadata": {},
   "outputs": [
    {
     "name": "stdout",
     "output_type": "stream",
     "text": [
      "pi to 4 significant digits = 3.142\n"
     ]
    }
   ],
   "source": [
    "print(\"pi to 4 significant digits = {:.4}\".format(math.pi))"
   ]
  },
  {
   "cell_type": "code",
   "execution_count": 90,
   "metadata": {},
   "outputs": [
    {
     "name": "stdout",
     "output_type": "stream",
     "text": [
      "5.0\n"
     ]
    }
   ],
   "source": [
    "# But most of what we'll find in the module are functions, like math.log\n",
    "print(math.log(32, 2))"
   ]
  },
  {
   "cell_type": "code",
   "execution_count": 91,
   "metadata": {},
   "outputs": [
    {
     "name": "stdout",
     "output_type": "stream",
     "text": [
      "Natural logarithm of 14 is : 2.6390573296152584\n"
     ]
    }
   ],
   "source": [
    "# A good compromise is to import only the specific things we'll need from each module\n",
    "from math import log, pi\n",
    "print (\"Natural logarithm of 14 is : \", end=\"\")\n",
    "print (math.log(14))"
   ]
  },
  {
   "cell_type": "code",
   "execution_count": 92,
   "metadata": {},
   "outputs": [
    {
     "name": "stdout",
     "output_type": "stream",
     "text": [
      "[2 4 2 1 4 2 3 4 1 3]\n"
     ]
    }
   ],
   "source": [
    "# So if we import numpy as above, then calling a function in the random \"submodule\" will require two dots\n",
    "rolls = numpy.random.randint(low=1, high=6, size=10)\n",
    "print(rolls)"
   ]
  },
  {
   "cell_type": "code",
   "execution_count": 93,
   "metadata": {},
   "outputs": [
    {
     "name": "stdout",
     "output_type": "stream",
     "text": [
      "<class 'numpy.ndarray'>\n"
     ]
    }
   ],
   "source": [
    "# Three tools for understanding strange objects\n",
    "\n",
    "# what is this thing?\n",
    "print(type(rolls))"
   ]
  },
  {
   "cell_type": "code",
   "execution_count": 94,
   "metadata": {},
   "outputs": [
    {
     "name": "stdout",
     "output_type": "stream",
     "text": [
      "['T', '__abs__', '__add__', '__and__', '__array__', '__array_finalize__', '__array_function__', '__array_interface__', '__array_prepare__', '__array_priority__', '__array_struct__', '__array_ufunc__', '__array_wrap__', '__bool__', '__class__', '__class_getitem__', '__complex__', '__contains__', '__copy__', '__deepcopy__', '__delattr__', '__delitem__', '__dir__', '__divmod__', '__dlpack__', '__dlpack_device__', '__doc__', '__eq__', '__float__', '__floordiv__', '__format__', '__ge__', '__getattribute__', '__getitem__', '__getstate__', '__gt__', '__hash__', '__iadd__', '__iand__', '__ifloordiv__', '__ilshift__', '__imatmul__', '__imod__', '__imul__', '__index__', '__init__', '__init_subclass__', '__int__', '__invert__', '__ior__', '__ipow__', '__irshift__', '__isub__', '__iter__', '__itruediv__', '__ixor__', '__le__', '__len__', '__lshift__', '__lt__', '__matmul__', '__mod__', '__mul__', '__ne__', '__neg__', '__new__', '__or__', '__pos__', '__pow__', '__radd__', '__rand__', '__rdivmod__', '__reduce__', '__reduce_ex__', '__repr__', '__rfloordiv__', '__rlshift__', '__rmatmul__', '__rmod__', '__rmul__', '__ror__', '__rpow__', '__rrshift__', '__rshift__', '__rsub__', '__rtruediv__', '__rxor__', '__setattr__', '__setitem__', '__setstate__', '__sizeof__', '__str__', '__sub__', '__subclasshook__', '__truediv__', '__xor__', 'all', 'any', 'argmax', 'argmin', 'argpartition', 'argsort', 'astype', 'base', 'byteswap', 'choose', 'clip', 'compress', 'conj', 'conjugate', 'copy', 'ctypes', 'cumprod', 'cumsum', 'data', 'diagonal', 'dot', 'dtype', 'dump', 'dumps', 'fill', 'flags', 'flat', 'flatten', 'getfield', 'imag', 'item', 'itemset', 'itemsize', 'max', 'mean', 'min', 'nbytes', 'ndim', 'newbyteorder', 'nonzero', 'partition', 'prod', 'ptp', 'put', 'ravel', 'real', 'repeat', 'reshape', 'resize', 'round', 'searchsorted', 'setfield', 'setflags', 'shape', 'size', 'sort', 'squeeze', 'std', 'strides', 'sum', 'swapaxes', 'take', 'tobytes', 'tofile', 'tolist', 'tostring', 'trace', 'transpose', 'var', 'view']\n"
     ]
    }
   ],
   "source": [
    "# what can I do with it?\n",
    "print(dir(rolls))"
   ]
  },
  {
   "cell_type": "code",
   "execution_count": 95,
   "metadata": {},
   "outputs": [
    {
     "name": "stdout",
     "output_type": "stream",
     "text": [
      "2.6\n"
     ]
    }
   ],
   "source": [
    "# If I want the average roll, the \"mean\" method looks promising...\n",
    "print(rolls.mean())"
   ]
  },
  {
   "cell_type": "code",
   "execution_count": 96,
   "metadata": {},
   "outputs": [
    {
     "name": "stdout",
     "output_type": "stream",
     "text": [
      "[2, 4, 2, 1, 4, 2, 3, 4, 1, 3]\n"
     ]
    }
   ],
   "source": [
    "# Or maybe I just want to turn the array into a list, in which case I can use \"tolist\"\n",
    "print(rolls.tolist())"
   ]
  },
  {
   "cell_type": "code",
   "execution_count": 97,
   "metadata": {},
   "outputs": [
    {
     "name": "stdout",
     "output_type": "stream",
     "text": [
      "Help on built-in function ravel:\n",
      "\n",
      "ravel(...) method of numpy.ndarray instance\n",
      "    a.ravel([order])\n",
      "    \n",
      "    Return a flattened array.\n",
      "    \n",
      "    Refer to `numpy.ravel` for full documentation.\n",
      "    \n",
      "    See Also\n",
      "    --------\n",
      "    numpy.ravel : equivalent function\n",
      "    \n",
      "    ndarray.flat : a flat iterator on the array.\n",
      "\n",
      "None\n"
     ]
    }
   ],
   "source": [
    "# tell me more\n",
    "print(help(rolls.ravel))"
   ]
  },
  {
   "cell_type": "code",
   "execution_count": null,
   "metadata": {},
   "outputs": [],
   "source": []
  }
 ],
 "metadata": {
  "kernelspec": {
   "display_name": "Python 3 (ipykernel)",
   "language": "python",
   "name": "python3"
  },
  "language_info": {
   "codemirror_mode": {
    "name": "ipython",
    "version": 3
   },
   "file_extension": ".py",
   "mimetype": "text/x-python",
   "name": "python",
   "nbconvert_exporter": "python",
   "pygments_lexer": "ipython3",
   "version": "3.11.1"
  },
  "vscode": {
   "interpreter": {
    "hash": "07df6efb1e40666884816ca04b3913c8c99028597c2766888796efd5c647c034"
   }
  }
 },
 "nbformat": 4,
 "nbformat_minor": 2
}
